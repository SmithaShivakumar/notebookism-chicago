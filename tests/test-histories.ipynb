{
 "cells": [
  {
   "cell_type": "code",
   "execution_count": null,
   "metadata": {},
   "outputs": [],
   "source": [
    "\"\"\"\n",
    "$('#maintoolbar-container').append \\\n",
    "    \\\"\\\"\\\"<div class=\"btn-group\"><button class=\"btn btn-default\" title=\"Toggle cells\" id=\"toggle_magic\"><i class=\"fa-eye-slash fa\"></i></button></div>\"\\\"\\\"\\\n",
    "$('#toggle_magic').click ()->\n",
    "    $('.code_cell .input_area').filter ()-> @.innerText.trim().startsWith '%%'\n",
    "        .toggle()\"\"\""
   ]
  },
  {
   "cell_type": "code",
   "execution_count": null,
   "metadata": {},
   "outputs": [],
   "source": [
    "\"\"\"\n",
    "$('#maintoolbar-container').append \\\n",
    "    \\\"\\\"\\\"<div class=\"btn-group\"><button class=\"btn btn-default\" title=\"Toggle cells\" id=\"toggle_magic\"><i class=\"fa-eye-slash fa\"></i></button></div>\"\\\"\"\n",
    "$('#toggle_magic').click ()->\n",
    "    $('.code_cell .input_area').filter ()-> @.innerText.trim().startsWith '%%'\n",
    "        .toggle()\"\"\""
   ]
  }
 ],
 "metadata": {
  "kernelspec": {
   "display_name": "Python [Root]",
   "language": "python",
   "name": "Python [Root]"
  },
  "language_info": {
   "codemirror_mode": {
    "name": "ipython",
    "version": 3
   },
   "file_extension": ".py",
   "mimetype": "text/x-python",
   "name": "python",
   "nbconvert_exporter": "python",
   "pygments_lexer": "ipython3",
   "version": "3.5.2"
  },
  "nbpresent": {
   "slides": {
    "12f1c5e3-3345-46ce-8c81-e84d372806d4": {
     "id": "12f1c5e3-3345-46ce-8c81-e84d372806d4",
     "prev": "7f76eb51-d242-498f-86c9-77b5983c218c",
     "regions": {
      "4767ef3d-68ce-4b75-82e9-35150335a7f3": {
       "attrs": {
        "height": 0.8,
        "width": 0.8,
        "x": 0.1,
        "y": 0.1
       },
       "content": {
        "cell": "07af954a-ec93-4fdc-8be9-33705944e65c",
        "part": "whole"
       },
       "id": "4767ef3d-68ce-4b75-82e9-35150335a7f3"
      }
     }
    },
    "1873e3d1-ac5e-4e65-a08d-eac7e88e596b": {
     "id": "1873e3d1-ac5e-4e65-a08d-eac7e88e596b",
     "prev": "907f8d01-dac4-4b1d-8f3f-94171d8f6d02",
     "regions": {
      "72259aba-35a0-4519-b8c8-daa93e452014": {
       "attrs": {
        "height": 0.8,
        "width": 0.8,
        "x": 0.1,
        "y": 0.1
       },
       "content": {
        "cell": "3e8eab49-68cb-47d3-a98f-fca5cbdfdbb5",
        "part": "whole"
       },
       "id": "72259aba-35a0-4519-b8c8-daa93e452014"
      }
     }
    },
    "23042b27-abda-44dc-bee6-e3942125838a": {
     "id": "23042b27-abda-44dc-bee6-e3942125838a",
     "prev": "1873e3d1-ac5e-4e65-a08d-eac7e88e596b",
     "regions": {
      "2e330f39-d329-427e-8853-3668f24b85c8": {
       "attrs": {
        "height": 0.8,
        "width": 0.8,
        "x": 0.1,
        "y": 0.1
       },
       "content": {
        "cell": "d4a201ec-6424-4b1b-a7ec-7c61cf66a796",
        "part": "whole"
       },
       "id": "2e330f39-d329-427e-8853-3668f24b85c8"
      }
     }
    },
    "4fcbdc8e-3e60-4ed3-b1bb-2876e07e520c": {
     "id": "4fcbdc8e-3e60-4ed3-b1bb-2876e07e520c",
     "prev": "ec9ee585-d85c-4023-875e-a90725573dac",
     "regions": {
      "c86dc1b1-54c2-45dd-8888-6427b49f9b0a": {
       "attrs": {
        "height": 0.8,
        "width": 0.8,
        "x": 0.1,
        "y": 0.1
       },
       "content": {
        "cell": "ad50de45-04f7-4700-9750-29b0e636ab14",
        "part": "whole"
       },
       "id": "c86dc1b1-54c2-45dd-8888-6427b49f9b0a"
      }
     }
    },
    "5cf7b29d-6755-42fb-b351-2172dfb22dfa": {
     "id": "5cf7b29d-6755-42fb-b351-2172dfb22dfa",
     "prev": "627e69e0-085b-497f-8349-97b199558448",
     "regions": {
      "491c2558-9793-4e1f-952c-87807ebff193": {
       "attrs": {
        "height": 0.8,
        "width": 0.8,
        "x": 0.1,
        "y": 0.1
       },
       "content": {
        "cell": "265291b7-3620-413e-bec3-29e09a87b4ad",
        "part": "whole"
       },
       "id": "491c2558-9793-4e1f-952c-87807ebff193"
      }
     }
    },
    "627e69e0-085b-497f-8349-97b199558448": {
     "id": "627e69e0-085b-497f-8349-97b199558448",
     "prev": "80ca9251-3051-4a03-afb8-7cc8fabd4e74",
     "regions": {
      "09617a5b-941f-45ce-a830-3e9329f5c8a3": {
       "attrs": {
        "height": 0.8,
        "width": 0.8,
        "x": 0.1,
        "y": 0.1
       },
       "content": {
        "cell": "96cda9f5-462e-4b1d-b45b-cffa026bac06",
        "part": "whole"
       },
       "id": "09617a5b-941f-45ce-a830-3e9329f5c8a3"
      }
     }
    },
    "7f76eb51-d242-498f-86c9-77b5983c218c": {
     "id": "7f76eb51-d242-498f-86c9-77b5983c218c",
     "prev": "23042b27-abda-44dc-bee6-e3942125838a",
     "regions": {
      "0f429fd4-07e9-46a1-b729-d2491e0b688d": {
       "attrs": {
        "height": 0.8,
        "width": 0.8,
        "x": 0.1,
        "y": 0.1
       },
       "content": {
        "cell": "86d85b75-ee4e-4546-9648-e45f6780878a",
        "part": "whole"
       },
       "id": "0f429fd4-07e9-46a1-b729-d2491e0b688d"
      }
     }
    },
    "80ca9251-3051-4a03-afb8-7cc8fabd4e74": {
     "id": "80ca9251-3051-4a03-afb8-7cc8fabd4e74",
     "prev": "98838572-7eb9-4ef2-a0ba-8a022572e724",
     "regions": {
      "0be074b3-729f-4e2a-9327-c82de4f73278": {
       "attrs": {
        "height": 0.8,
        "width": 0.8,
        "x": 0.1,
        "y": 0.1
       },
       "content": {
        "cell": "d66d41df-7b5f-4dd7-8ab7-ff66820a660e",
        "part": "whole"
       },
       "id": "0be074b3-729f-4e2a-9327-c82de4f73278"
      }
     }
    },
    "907f8d01-dac4-4b1d-8f3f-94171d8f6d02": {
     "id": "907f8d01-dac4-4b1d-8f3f-94171d8f6d02",
     "prev": "f0bbf6b7-50cc-41f8-9330-318ce7875a57",
     "regions": {
      "741fff58-48cf-45a4-a6c3-4d0fa1e9e336": {
       "attrs": {
        "height": 0.8,
        "width": 0.8,
        "x": 0.1,
        "y": 0.1
       },
       "content": {
        "cell": "9ec7847f-8772-496e-84c0-aab45d4f0d1a",
        "part": "whole"
       },
       "id": "741fff58-48cf-45a4-a6c3-4d0fa1e9e336"
      }
     }
    },
    "93b6ca3f-53f7-432a-82b1-900e10fe03d3": {
     "id": "93b6ca3f-53f7-432a-82b1-900e10fe03d3",
     "prev": "dce93c91-6fd5-4f88-9913-7bcb733274b0",
     "regions": {
      "ad804e51-c7a4-496a-8059-e4c75fe3214c": {
       "attrs": {
        "height": 0.8,
        "width": 0.8,
        "x": 0.1,
        "y": 0.1
       },
       "content": {
        "cell": "2f23514a-896b-42ca-afef-ae0271c6c660",
        "part": "whole"
       },
       "id": "ad804e51-c7a4-496a-8059-e4c75fe3214c"
      }
     }
    },
    "98838572-7eb9-4ef2-a0ba-8a022572e724": {
     "id": "98838572-7eb9-4ef2-a0ba-8a022572e724",
     "prev": "af910086-4c1a-4970-bf55-8707d1c32e99",
     "regions": {
      "3bcc4004-aa5a-4667-b383-3ceb8a82f832": {
       "attrs": {
        "height": 0.8,
        "width": 0.8,
        "x": 0.1,
        "y": 0.1
       },
       "content": {
        "cell": "991b2121-c399-4391-bfb4-5c287b2ef865",
        "part": "whole"
       },
       "id": "3bcc4004-aa5a-4667-b383-3ceb8a82f832"
      }
     }
    },
    "af910086-4c1a-4970-bf55-8707d1c32e99": {
     "id": "af910086-4c1a-4970-bf55-8707d1c32e99",
     "prev": "c845af30-951a-426c-af9c-e4d8846e4860",
     "regions": {
      "4b8d9e3b-4d9f-49b2-9132-0513c08b11d5": {
       "attrs": {
        "height": 0.8,
        "width": 0.8,
        "x": 0.1,
        "y": 0.1
       },
       "content": {
        "cell": "52e2dad9-b9ba-4c73-88c7-e9dfa3f38554",
        "part": "whole"
       },
       "id": "4b8d9e3b-4d9f-49b2-9132-0513c08b11d5"
      }
     }
    },
    "c845af30-951a-426c-af9c-e4d8846e4860": {
     "id": "c845af30-951a-426c-af9c-e4d8846e4860",
     "prev": "cccac475-d3fb-4800-8341-8e0ac60497c0",
     "regions": {
      "ae09605a-1fa9-428e-a0d4-1e9b7ae328e1": {
       "attrs": {
        "height": 0.8,
        "width": 0.8,
        "x": 0.1,
        "y": 0.1
       },
       "content": {
        "cell": "11ab5543-d7ce-46b5-b6c4-f0293a4501d8",
        "part": "whole"
       },
       "id": "ae09605a-1fa9-428e-a0d4-1e9b7ae328e1"
      }
     }
    },
    "cccac475-d3fb-4800-8341-8e0ac60497c0": {
     "id": "cccac475-d3fb-4800-8341-8e0ac60497c0",
     "prev": null,
     "regions": {
      "1f6e9b64-4ee5-4eed-9cb8-e1e504fb8c93": {
       "attrs": {
        "height": 0.8,
        "width": 0.8,
        "x": 0.1,
        "y": 0.1
       },
       "content": {
        "cell": "e4fa3b93-98cd-44c3-b54a-b8af1a9c15dd",
        "part": "whole"
       },
       "id": "1f6e9b64-4ee5-4eed-9cb8-e1e504fb8c93"
      }
     }
    },
    "dce93c91-6fd5-4f88-9913-7bcb733274b0": {
     "id": "dce93c91-6fd5-4f88-9913-7bcb733274b0",
     "prev": "5cf7b29d-6755-42fb-b351-2172dfb22dfa",
     "regions": {
      "f1062431-2a50-4ae7-8935-d8e8af125498": {
       "attrs": {
        "height": 0.8,
        "width": 0.8,
        "x": 0.1,
        "y": 0.1
       },
       "content": {
        "cell": "6f9af401-a132-4316-9cea-eb9f6bf0db51",
        "part": "whole"
       },
       "id": "f1062431-2a50-4ae7-8935-d8e8af125498"
      }
     }
    },
    "ec9ee585-d85c-4023-875e-a90725573dac": {
     "id": "ec9ee585-d85c-4023-875e-a90725573dac",
     "prev": "12f1c5e3-3345-46ce-8c81-e84d372806d4",
     "regions": {
      "a58ae88b-756f-4551-9022-cc7be450c252": {
       "attrs": {
        "height": 0.8,
        "width": 0.8,
        "x": 0.1,
        "y": 0.1
       },
       "content": {
        "cell": "9ea90ef8-c28a-40d2-96b4-7d93bbcae8f6",
        "part": "whole"
       },
       "id": "a58ae88b-756f-4551-9022-cc7be450c252"
      }
     }
    },
    "f0bbf6b7-50cc-41f8-9330-318ce7875a57": {
     "id": "f0bbf6b7-50cc-41f8-9330-318ce7875a57",
     "prev": "93b6ca3f-53f7-432a-82b1-900e10fe03d3",
     "regions": {
      "97a9fdaa-ca1a-4317-938c-d3cd4e2d8538": {
       "attrs": {
        "height": 0.8,
        "width": 0.8,
        "x": 0.1,
        "y": 0.1
       },
       "content": {
        "cell": "ffd2b6c5-184d-4e15-842f-570ef91089de",
        "part": "whole"
       },
       "id": "97a9fdaa-ca1a-4317-938c-d3cd4e2d8538"
      }
     }
    }
   },
   "themes": {}
  }
 },
 "nbformat": 4,
 "nbformat_minor": 0
}
