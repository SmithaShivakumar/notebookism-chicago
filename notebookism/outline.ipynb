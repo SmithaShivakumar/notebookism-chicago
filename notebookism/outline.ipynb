{
 "cells": [
  {
   "cell_type": "markdown",
   "metadata": {},
   "source": [
    "# Notebook-ism - <small>A daily practice of ideas.</small>\n",
    "\n",
    "---\n",
    "\n",
    "A three-part discussion on the history, state-of-the-art, and flexibility of modern notebooks.\n",
    "\n",
    "Notebooks help bootstrap an idea form nothing."
   ]
  },
  {
   "cell_type": "markdown",
   "metadata": {},
   "source": [
    "## Notebooks are a place to practice ideas\n",
    "\n",
    "---\n",
    "\n",
    "You've made it when you get paid for your practice.\n",
    "\n",
    "* About Me in Notebooks\n",
    "* Notebooks are not new\n",
    "* The Rise of Notebooks\n",
    "* An Abbreviated History of Modern Notebooks\n",
    "* `[Notebook, Diary, Journal]` - ism"
   ]
  },
  {
   "cell_type": "markdown",
   "metadata": {},
   "source": [
    "## Notebooks bring ideas to life\n",
    "\n",
    "---\n",
    "\n",
    "Information is dynamic, it has moved beyond the static document.\n",
    "\n",
    "* Notebooks are for computing & saving time\n",
    "* A web framework in a box\n",
    "* Style suggestions\n",
    "    \n",
    "    * `import this`\n",
    "    * Compactness\n",
    "    * Functional Programming\n",
    "    \n",
    "* Bang\n",
    "* Magics\n",
    "* Caching\n",
    "* Parallelization"
   ]
  },
  {
   "cell_type": "markdown",
   "metadata": {},
   "source": [
    "## Notebook polymorphisms\n",
    "\n",
    "---\n",
    "\n",
    "Notebooks are more transparent than they used to be.  Most often it is a document for others.\n",
    "\n",
    "* A Flexible Serialization\n",
    "* Notebook States\n",
    "\n",
    "    * Static, my kernel, & other kernels.\n",
    "    \n",
    "* A notebook module\n",
    "* Notebook tests\n",
    "* An App in the Notebook\n",
    "* Other states - nbviewer, binder, github, travis, presentation"
   ]
  },
  {
   "cell_type": "markdown",
   "metadata": {},
   "source": [
    "* http://www.digitalpreservation.gov/formats/fdd/fdd000381.shtml"
   ]
  },
  {
   "cell_type": "code",
   "execution_count": null,
   "metadata": {
    "collapsed": true
   },
   "outputs": [],
   "source": []
  }
 ],
 "metadata": {
  "anaconda-cloud": {},
  "kernelspec": {
   "display_name": "Python [Root]",
   "language": "python",
   "name": "Python [Root]"
  },
  "language_info": {
   "codemirror_mode": {
    "name": "ipython",
    "version": 3
   },
   "file_extension": ".py",
   "mimetype": "text/x-python",
   "name": "python",
   "nbconvert_exporter": "python",
   "pygments_lexer": "ipython3",
   "version": "3.5.2"
  }
 },
 "nbformat": 4,
 "nbformat_minor": 0
}
