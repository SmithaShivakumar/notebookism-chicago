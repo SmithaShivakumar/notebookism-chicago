{
 "cells": [
  {
   "cell_type": "markdown",
   "metadata": {},
   "source": [
    "> Utilities for the presentation"
   ]
  },
  {
   "cell_type": "code",
   "execution_count": 7,
   "metadata": {
    "collapsed": true
   },
   "outputs": [],
   "source": [
    "from toolz.curried import * # Functional programming \n",
    "from whatever import __x, _this, callables # Pythonic unctional programming syntax\n",
    "from IPython import display, get_ipython\n",
    "\n",
    "import envoy, jinja2, pandas, requests, yaml\n",
    "\n",
    "__all__ = ['iframe', 'env', 'refs', 'toggler']"
   ]
  },
  {
   "cell_type": "code",
   "execution_count": 2,
   "metadata": {
    "collapsed": true
   },
   "outputs": [],
   "source": [
    "iframe = partial(display.IFrame, width=800, height=600)"
   ]
  },
  {
   "cell_type": "code",
   "execution_count": 3,
   "metadata": {
    "collapsed": true
   },
   "outputs": [],
   "source": [
    "with open(\"../links.yaml.md\") as f:\n",
    "    refs =  __x(f.read())[yaml.safe_load] \\\n",
    "        * callables.Dispatch({\n",
    "                str: lambda s: {s: s}, dict: identity,\n",
    "            })\n",
    "    refs = refs > (lambda x: merge(*x))"
   ]
  },
  {
   "cell_type": "code",
   "execution_count": 4,
   "metadata": {
    "collapsed": true
   },
   "outputs": [],
   "source": [
    "class GlobalTemplate(jinja2.Template):\n",
    "    def render(self, *args, **kwargs):\n",
    "        return super().render(\n",
    "            *args, **merge(\n",
    "                globals(),\n",
    "                get_ipython().user_ns,\n",
    "                kwargs,\n",
    "            ),\n",
    "        )\n",
    "env = jinja2.Environment(loader=jinja2.DictLoader({}))\n",
    "env.template_class = GlobalTemplate"
   ]
  },
  {
   "cell_type": "code",
   "execution_count": null,
   "metadata": {
    "collapsed": true
   },
   "outputs": [],
   "source": [
    "def parse_(display_and_template_name):\n",
    "    \"\"\"\n",
    "    \"\"\"\n",
    "    display, name = \"\", \"\"\n",
    "    tokens = display_and_template_name.strip().split(' ')\n",
    "    if len(tokens) is 2:\n",
    "        display, name = tokens\n",
    "    else:\n",
    "        display = first(tokens)\n",
    "    return display, name"
   ]
  },
  {
   "cell_type": "code",
   "execution_count": null,
   "metadata": {
    "collapsed": true
   },
   "outputs": [],
   "source": [
    "@partial( \n",
    "    get_ipython().register_magic_function,\n",
    "    magic_name='display',\n",
    "    magic_kind='cell'\n",
    ")\n",
    "def display_template(line, cell):\n",
    "    display_method, var_name = parse_(line)\n",
    "    template = env.from_string(cell)\n",
    "    if var_name: env.loader.mapping[var_name] = template\n",
    "    return getattr(display, display_method,)(template.render())"
   ]
  },
  {
   "cell_type": "code",
   "execution_count": 6,
   "metadata": {
    "collapsed": false
   },
   "outputs": [],
   "source": [
    "toggler = partial(\n",
    "    display.Javascript, \n",
    "    \"\"\"$('#maintoolbar-container').append(\n",
    "        '<div class=\"btn-group\"><button class=\"btn btn-default\" title=\"Toggle cells\" id=\"toggle_magic\"><i class=\"fa-eye-slash fa\"></i></button></div>'\n",
    "    )\n",
    "    $('#toggle_magic').click(\n",
    "        function(){\n",
    "            $('.code_cell .input_area').filter(\n",
    "                function(){\n",
    "                    return this.innerText.trim().startsWith('%%')\n",
    "                }\n",
    "            ).toggle()\n",
    "        }\n",
    "    )\"\"\"\n",
    ")"
   ]
  }
 ],
 "metadata": {
  "anaconda-cloud": {},
  "kernelspec": {
   "display_name": "Python [Root]",
   "language": "python",
   "name": "Python [Root]"
  },
  "language_info": {
   "codemirror_mode": {
    "name": "ipython",
    "version": 3
   },
   "file_extension": ".py",
   "mimetype": "text/x-python",
   "name": "python",
   "nbconvert_exporter": "python",
   "pygments_lexer": "ipython3",
   "version": "3.5.2"
  }
 },
 "nbformat": 4,
 "nbformat_minor": 0
}
