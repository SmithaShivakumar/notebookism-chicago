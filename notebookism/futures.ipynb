{
 "cells": [
  {
   "cell_type": "markdown",
   "metadata": {},
   "source": [
    "# Putting it all together <small>Part 3</small>\n",
    "\n",
    "---\n",
    "\n",
    "The notebook, my machine, and its many artifacts."
   ]
  },
  {
   "cell_type": "code",
   "execution_count": 1,
   "metadata": {
    "collapsed": false,
    "nbpresent": {
     "id": "9dde169f-d7ab-4ac4-8d88-dc08e2824a6d"
    }
   },
   "outputs": [],
   "source": [
    "if __name__ is '__main__':\n",
    "    from notebookism import env, iframe, refs, get_\n",
    "else:\n",
    "    from .utils import env, iframe, refs\n",
    "    from .currents import get_\n",
    "    \n",
    "    \n",
    "from whatever import *\n",
    "from toolz.curried import *\n",
    "import envoy, ipywidgets, jinja2, mistune, nbconvert, requests, time\n",
    "from IPython import get_ipython, display"
   ]
  },
  {
   "cell_type": "code",
   "execution_count": 2,
   "metadata": {
    "collapsed": false
   },
   "outputs": [
    {
     "data": {
      "text/html": [
       "\n",
       "        <iframe\n",
       "            width=\"800\"\n",
       "            height=\"600\"\n",
       "            src=\"https://www.opendatascience.com/wp-content/uploads/2015/12/IPython_Notebook_Workflows.png\"\n",
       "            frameborder=\"0\"\n",
       "            allowfullscreen\n",
       "        ></iframe>\n",
       "        "
      ],
      "text/plain": [
       "<IPython.lib.display.IFrame at 0x120133fd0>"
      ]
     },
     "execution_count": 2,
     "metadata": {},
     "output_type": "execute_result"
    }
   ],
   "source": [
    "iframe(refs['workflow'])"
   ]
  },
  {
   "cell_type": "code",
   "execution_count": 3,
   "metadata": {
    "collapsed": false,
    "nbpresent": {
     "id": "f09f8415-804e-4385-ae1f-85b181e0b84e"
    }
   },
   "outputs": [
    {
     "data": {
      "text/html": [
       "\n",
       "        <iframe\n",
       "            width=\"800\"\n",
       "            height=\"600\"\n",
       "            src=\"https://ipython.org/ipython-doc/3/notebook/nbformat.html#nbformat\"\n",
       "            frameborder=\"0\"\n",
       "            allowfullscreen\n",
       "        ></iframe>\n",
       "        "
      ],
      "text/plain": [
       "<IPython.lib.display.IFrame at 0x1201400b8>"
      ]
     },
     "execution_count": 3,
     "metadata": {},
     "output_type": "execute_result"
    }
   ],
   "source": [
    "iframe(refs['format'])"
   ]
  },
  {
   "cell_type": "markdown",
   "metadata": {},
   "source": [
    "# Sharing is caring"
   ]
  },
  {
   "cell_type": "code",
   "execution_count": null,
   "metadata": {
    "collapsed": false
   },
   "outputs": [
    {
     "data": {
      "text/markdown": [
       "## Gist, Nbviewer, Anaconda <small>no kernel</small>\n",
       "\n",
       "---\n",
       "\n",
       "Sharing static files means that Javascript can be used for interactivity.\n",
       "\n",
       "* Github santizes javascript\n",
       "* `nbviewer` and `anaconda` embrace it.  Static webpages can be applications.\n",
       "    * [`anaconda-nb-extensions`](None)\n",
       "    \n",
       "http://nbviewer.jupyter.org/github/tonyfast/notebookism-chicago/tree/master/"
      ],
      "text/plain": [
       "<IPython.core.display.Markdown object>"
      ]
     },
     "execution_count": 4,
     "metadata": {},
     "output_type": "execute_result"
    }
   ],
   "source": [
    "%%display Markdown\n",
    "## Gist, Nbviewer, Anaconda <small>no kernel</small>\n",
    "\n",
    "---\n",
    "\n",
    "Sharing static files means that Javascript can be used for interactivity.\n",
    "\n",
    "* Github santizes javascript\n",
    "* `nbviewer` and `anaconda` embrace it.  Static webpages can be applications.\n",
    "    * [`anaconda-nb-extensions`]({{refs['nbext']}})\n",
    "    \n",
    "http://nbviewer.jupyter.org/github/tonyfast/notebookism-chicago/tree/master/"
   ]
  },
  {
   "cell_type": "markdown",
   "metadata": {
    "nbpresent": {
     "id": "45e50a84-e3c0-4ef0-b516-833260d9ffd8"
    }
   },
   "source": [
    "## Binder, Travis <small>not my kernel</small>\n",
    "\n",
    "* [![Binder](http://mybinder.org/badge.svg)](http://mybinder.org:/repo/tonyfast/notebookism-chicago)\n",
    "* [`travis-ci`](https://travis-ci.org/tonyfast/notebookism-chicago)"
   ]
  },
  {
   "cell_type": "markdown",
   "metadata": {
    "nbpresent": {
     "id": "0b156aa0-8073-4b39-a8a5-b379fc0a262e"
    }
   },
   "source": [
    "## I am a stateful machine <small>my kernel</small>\n",
    "\n",
    "> The work you do locally effects "
   ]
  },
  {
   "cell_type": "markdown",
   "metadata": {},
   "source": [
    "# How do you test notebooks?\n",
    "\n",
    "[`pytest-ipynb`]()"
   ]
  },
  {
   "cell_type": "markdown",
   "metadata": {},
   "source": [
    "# Applications and the notebook"
   ]
  },
  {
   "cell_type": "code",
   "execution_count": null,
   "metadata": {
    "collapsed": true
   },
   "outputs": [],
   "source": [
    "from flask import Flask\n",
    "from IPython import get_ipython\n",
    "app = Flask(__name__)\n",
    "\n",
    "@app.route(\"/\")\n",
    "@app.route(\"/<path:path>\")\n",
    "def hello(path=\"\"):\n",
    "    if path:\n",
    "        repo.value = path\n",
    "        return (__x(**get_ipython().user_ns)\n",
    "                 | repo_template.render\n",
    "                 > mistune.markdown\n",
    "                )\n",
    "    return \"Hello New World!\" + path\n",
    "\n",
    "if __name__ == \"__main__\":\n",
    "    app.run(port=5000)"
   ]
  },
  {
   "cell_type": "code",
   "execution_count": null,
   "metadata": {
    "collapsed": true
   },
   "outputs": [],
   "source": [
    "%%file app.py\n",
    "from flask import Flask\n",
    "from IPython import get_ipython\n",
    "app = Flask(__name__)\n",
    "\n",
    "@app.route(\"/\")\n",
    "@app.route(\"/<path:path>\")\n",
    "def hello(path=\"\"):\n",
    "    if path:\n",
    "        repo.value = path\n",
    "        return (__x(**get_ipython().user_ns)\n",
    "                 | repo_template.render\n",
    "                 > mistune.markdown\n",
    "                )\n",
    "    return \"Hello New World!\" + path\n",
    "\n",
    "if __name__ == \"__main__\":\n",
    "    app.run(port=5000)"
   ]
  },
  {
   "cell_type": "code",
   "execution_count": null,
   "metadata": {
    "collapsed": true
   },
   "outputs": [],
   "source": [
    "# e = envoy.connect('python app.py')\n",
    "# requests.get('http://localhost:5000/testing').text\n",
    "# e.kill()"
   ]
  },
  {
   "cell_type": "code",
   "execution_count": null,
   "metadata": {
    "collapsed": false,
    "nbpresent": {
     "id": "77d75bd4-3e9d-4b42-a5e9-de1af244e03c"
    }
   },
   "outputs": [],
   "source": [
    "%%script python --bg\n",
    "from flask import Flask\n",
    "from IPython import get_ipython\n",
    "app = Flask(__name__)\n",
    "\n",
    "@app.route(\"/\")\n",
    "@app.route(\"/<path:path>\")\n",
    "def hello(path=\"\"):\n",
    "    if path:\n",
    "        repo.value = path\n",
    "        return (__x(**get_ipython().user_ns)\n",
    "                 | repo_template.render\n",
    "                 > mistune.markdown\n",
    "                )\n",
    "    return \"Hello New World!\" + path\n",
    "\n",
    "if __name__ == \"__main__\":\n",
    "    app.run(port=5000)"
   ]
  },
  {
   "cell_type": "code",
   "execution_count": null,
   "metadata": {
    "collapsed": false
   },
   "outputs": [],
   "source": [
    "%killbgscripts"
   ]
  },
  {
   "cell_type": "code",
   "execution_count": null,
   "metadata": {
    "collapsed": true
   },
   "outputs": [],
   "source": [
    "%%display Markdown _\n",
    "\n",
    "# Conclusion\n",
    "\n",
    "* Notebooks have come to provide the same flexibility as many modern programming. \n",
    "* The workflow is ideal for science, or answering a question to gain insight.\n",
    "\n",
    "> These presentations were made with [`nbpresent`]({{refs['nbpresent']}})"
   ]
  },
  {
   "cell_type": "code",
   "execution_count": null,
   "metadata": {
    "collapsed": true,
    "nbpresent": {
     "id": "7cfbc7b0-b857-4f84-a53d-7a45e7396210"
    }
   },
   "outputs": [],
   "source": [
    "# kill -15 $( lsof -i:5000 -t )"
   ]
  }
 ],
 "metadata": {
  "anaconda-cloud": {},
  "kernelspec": {
   "display_name": "Python [Root]",
   "language": "python",
   "name": "Python [Root]"
  },
  "language_info": {
   "codemirror_mode": {
    "name": "ipython",
    "version": 3
   },
   "file_extension": ".py",
   "mimetype": "text/x-python",
   "name": "python",
   "nbconvert_exporter": "python",
   "pygments_lexer": "ipython3",
   "version": "3.5.2"
  },
  "nbpresent": {
   "slides": {
    "a489d492-cf6d-490e-b532-0e1b449206bc": {
     "id": "a489d492-cf6d-490e-b532-0e1b449206bc",
     "prev": null,
     "regions": {
      "41273c2c-ef6d-47fd-b5b2-7ae9dfadfee4": {
       "attrs": {
        "height": 1,
        "width": 1,
        "x": 0,
        "y": 0
       },
       "content": {
        "cell": "5a240bcd-225b-41f3-bb53-d8be5f51e925",
        "part": "outputs"
       },
       "id": "41273c2c-ef6d-47fd-b5b2-7ae9dfadfee4"
      }
     }
    }
   },
   "themes": {}
  }
 },
 "nbformat": 4,
 "nbformat_minor": 0
}
