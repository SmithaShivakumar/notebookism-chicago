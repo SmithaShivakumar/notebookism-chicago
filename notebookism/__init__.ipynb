{
 "cells": [
  {
   "cell_type": "code",
   "execution_count": null,
   "metadata": {
    "collapsed": false
   },
   "outputs": [],
   "source": [
    "from .utils import env, iframe, refs, toggler\n",
    "from .currents import get_  # Initialize magics.\n",
    "\n",
    "from .utils import env, iframe, refs\n",
    "__all__ = [\n",
    "    'env', 'get_', 'iframe', 'refs', 'toggler',\n",
    "]"
   ]
  }
 ],
 "metadata": {
  "anaconda-cloud": {
   "environment": null,
   "url": "https://anaconda.org/tonyfast/untitled249"
  },
  "kernelspec": {
   "display_name": "Python [Root]",
   "language": "python",
   "name": "Python [Root]"
  },
  "language_info": {
   "codemirror_mode": {
    "name": "ipython",
    "version": 3
   },
   "file_extension": ".py",
   "mimetype": "text/x-python",
   "name": "python",
   "nbconvert_exporter": "python",
   "pygments_lexer": "ipython3",
   "version": "3.5.2"
  }
 },
 "nbformat": 4,
 "nbformat_minor": 0
}
