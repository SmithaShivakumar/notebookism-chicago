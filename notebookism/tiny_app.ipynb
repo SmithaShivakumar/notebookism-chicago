{
 "cells": [
  {
   "cell_type": "code",
   "execution_count": 7,
   "metadata": {
    "collapsed": true
   },
   "outputs": [],
   "source": [
    "from whatever import *\n",
    "from toolz.curried import *\n",
    "import envoy, ipywidgets, jinja2, mistune, nbconvert, requests, time\n",
    "from IPython import get_ipython, display\n",
    "__all__ = [\n",
    "    'get_', 'repo_template',\n",
    "]"
   ]
  },
  {
   "cell_type": "code",
   "execution_count": 8,
   "metadata": {
    "collapsed": true
   },
   "outputs": [
    {
     "name": "stderr",
     "output_type": "stream",
     "text": [
      "Widget Javascript not detected.  It may not be installed properly. Did you enable the widgetsnbextension? If not, then run \"jupyter nbextension enable --py --sys-prefix widgetsnbextension\"\n"
     ]
    }
   ],
   "source": [
    "repo = ipywidgets.Text(\"nteract/nteract\")\n",
    "repo"
   ]
  },
  {
   "cell_type": "code",
   "execution_count": 9,
   "metadata": {
    "collapsed": true
   },
   "outputs": [],
   "source": [
    "@memoize\n",
    "def get_(url, *args):\n",
    "    \"\"\"A memoized request\"\"\"\n",
    "    return requests.get(\n",
    "        url, \n",
    "        params=__x(args[::2], args[1::2]).zip.dict.__(),\n",
    "    )"
   ]
  },
  {
   "cell_type": "code",
   "execution_count": 24,
   "metadata": {
    "collapsed": false
   },
   "outputs": [],
   "source": [
    "# %%time\n",
    "__repo_information = ( __x(repo.value)\n",
    "    | 'https://api.github.com/repos/{}'.format\n",
    "    | get_\n",
    "    | _this().json()._\n",
    ")"
   ]
  },
  {
   "cell_type": "code",
   "execution_count": 38,
   "metadata": {
    "collapsed": false
   },
   "outputs": [],
   "source": [
    "class GlobalTemplate(jinja2.Template):\n",
    "    def render(self, *args, **kwargs):\n",
    "        return super().render(\n",
    "            *args, **merge(\n",
    "                get_ipython().user_ns,\n",
    "                kwargs\n",
    "            ),\n",
    "        )\n",
    "env = jinja2.Environment()\n",
    "env.template_class = GlobalTemplate\n",
    "\n",
    "def parse_(line):\n",
    "    return line.strip().split(' ')\n",
    "\n",
    "@partial( \n",
    "    get_ipython().register_magic_function,\n",
    "    magic_name='display',\n",
    "    magic_kind='cell'\n",
    ")\n",
    "def display_template(line, cell):\n",
    "    display_method, var_name = parse_(line)\n",
    "    template = env.from_string(cell)\n",
    "    if var_name:\n",
    "        globals()[var_name] = template\n",
    "    if __name__ == \"__main__\":\n",
    "        return getattr(\n",
    "            display, display_method,\n",
    "        )(template.render())"
   ]
  },
  {
   "cell_type": "code",
   "execution_count": 39,
   "metadata": {},
   "outputs": [],
   "source": [
    "repo_info = __repo_information.__()"
   ]
  },
  {
   "cell_type": "code",
   "execution_count": 40,
   "metadata": {
    "collapsed": false
   },
   "outputs": [
    {
     "data": {
      "text/markdown": [
       "\n",
       "* __clone_url__ - https://github.com/nteract/nteract.git\n",
       "\n",
       "* __statuses_url__ - https://api.github.com/repos/nteract/nteract/statuses/{sha}\n",
       "\n",
       "* __language__ - JavaScript\n",
       "\n",
       "* __subscription_url__ - https://api.github.com/repos/nteract/nteract/subscription\n",
       "\n",
       "* __homepage__ - \n",
       "\n",
       "* __forks_url__ - https://api.github.com/repos/nteract/nteract/forks\n",
       "\n",
       "* __pulls_url__ - https://api.github.com/repos/nteract/nteract/pulls{/number}\n",
       "\n",
       "* __labels_url__ - https://api.github.com/repos/nteract/nteract/labels{/name}\n",
       "\n",
       "* __id__ - 37496521\n",
       "\n",
       "* __issues_url__ - https://api.github.com/repos/nteract/nteract/issues{/number}\n",
       "\n",
       "* __git_refs_url__ - https://api.github.com/repos/nteract/nteract/git/refs{/sha}\n",
       "\n",
       "* __ssh_url__ - git@github.com:nteract/nteract.git\n",
       "\n",
       "* __open_issues_count__ - 64\n",
       "\n",
       "* __notifications_url__ - https://api.github.com/repos/nteract/nteract/notifications{?since,all,participating}\n",
       "\n",
       "* __html_url__ - https://github.com/nteract/nteract\n",
       "\n",
       "* __milestones_url__ - https://api.github.com/repos/nteract/nteract/milestones{/number}\n",
       "\n",
       "* __updated_at__ - 2016-10-02T01:02:32Z\n",
       "\n",
       "* __forks_count__ - 50\n",
       "\n",
       "* __url__ - https://api.github.com/repos/nteract/nteract\n",
       "\n",
       "* __tags_url__ - https://api.github.com/repos/nteract/nteract/tags\n",
       "\n",
       "* __private__ - False\n",
       "\n",
       "* __stargazers_url__ - https://api.github.com/repos/nteract/nteract/stargazers\n",
       "\n",
       "* __deployments_url__ - https://api.github.com/repos/nteract/nteract/deployments\n",
       "\n",
       "* __organization__ - {'starred_url': 'https://api.github.com/users/nteract/starred{/owner}{/repo}', 'html_url': 'https://github.com/nteract', 'url': 'https://api.github.com/users/nteract', 'site_admin': False, 'organizations_url': 'https://api.github.com/users/nteract/orgs', 'gists_url': 'https://api.github.com/users/nteract/gists{/gist_id}', 'subscriptions_url': 'https://api.github.com/users/nteract/subscriptions', 'avatar_url': 'https://avatars.githubusercontent.com/u/12401040?v=3', 'events_url': 'https://api.github.com/users/nteract/events{/privacy}', 'followers_url': 'https://api.github.com/users/nteract/followers', 'id': 12401040, 'login': 'nteract', 'following_url': 'https://api.github.com/users/nteract/following{/other_user}', 'received_events_url': 'https://api.github.com/users/nteract/received_events', 'repos_url': 'https://api.github.com/users/nteract/repos', 'gravatar_id': '', 'type': 'Organization'}\n",
       "\n",
       "* __network_count__ - 50\n",
       "\n",
       "* __watchers__ - 365\n",
       "\n",
       "* __compare_url__ - https://api.github.com/repos/nteract/nteract/compare/{base}...{head}\n",
       "\n",
       "* __created_at__ - 2015-06-15T23:21:49Z\n",
       "\n",
       "* __archive_url__ - https://api.github.com/repos/nteract/nteract/{archive_format}{/ref}\n",
       "\n",
       "* __fork__ - False\n",
       "\n",
       "* __stargazers_count__ - 365\n",
       "\n",
       "* __description__ - :notebook: Interactive literate coding notebook!\n",
       "\n",
       "* __svn_url__ - https://github.com/nteract/nteract\n",
       "\n",
       "* __collaborators_url__ - https://api.github.com/repos/nteract/nteract/collaborators{/collaborator}\n",
       "\n",
       "* __downloads_url__ - https://api.github.com/repos/nteract/nteract/downloads\n",
       "\n",
       "* __default_branch__ - master\n",
       "\n",
       "* __blobs_url__ - https://api.github.com/repos/nteract/nteract/git/blobs{/sha}\n",
       "\n",
       "* __mirror_url__ - None\n",
       "\n",
       "* __keys_url__ - https://api.github.com/repos/nteract/nteract/keys{/key_id}\n",
       "\n",
       "* __subscribers_count__ - 42\n",
       "\n",
       "* __pushed_at__ - 2016-10-01T23:07:45Z\n",
       "\n",
       "* __branches_url__ - https://api.github.com/repos/nteract/nteract/branches{/branch}\n",
       "\n",
       "* __events_url__ - https://api.github.com/repos/nteract/nteract/events\n",
       "\n",
       "* __contributors_url__ - https://api.github.com/repos/nteract/nteract/contributors\n",
       "\n",
       "* __has_wiki__ - True\n",
       "\n",
       "* __subscribers_url__ - https://api.github.com/repos/nteract/nteract/subscribers\n",
       "\n",
       "* __merges_url__ - https://api.github.com/repos/nteract/nteract/merges\n",
       "\n",
       "* __forks__ - 50\n",
       "\n",
       "* __teams_url__ - https://api.github.com/repos/nteract/nteract/teams\n",
       "\n",
       "* __owner__ - {'starred_url': 'https://api.github.com/users/nteract/starred{/owner}{/repo}', 'html_url': 'https://github.com/nteract', 'url': 'https://api.github.com/users/nteract', 'site_admin': False, 'organizations_url': 'https://api.github.com/users/nteract/orgs', 'gists_url': 'https://api.github.com/users/nteract/gists{/gist_id}', 'subscriptions_url': 'https://api.github.com/users/nteract/subscriptions', 'avatar_url': 'https://avatars.githubusercontent.com/u/12401040?v=3', 'events_url': 'https://api.github.com/users/nteract/events{/privacy}', 'followers_url': 'https://api.github.com/users/nteract/followers', 'id': 12401040, 'login': 'nteract', 'following_url': 'https://api.github.com/users/nteract/following{/other_user}', 'received_events_url': 'https://api.github.com/users/nteract/received_events', 'repos_url': 'https://api.github.com/users/nteract/repos', 'gravatar_id': '', 'type': 'Organization'}\n",
       "\n",
       "* __comments_url__ - https://api.github.com/repos/nteract/nteract/comments{/number}\n",
       "\n",
       "* __has_downloads__ - True\n",
       "\n",
       "* __commits_url__ - https://api.github.com/repos/nteract/nteract/commits{/sha}\n",
       "\n",
       "* __has_pages__ - False\n",
       "\n",
       "* __trees_url__ - https://api.github.com/repos/nteract/nteract/git/trees{/sha}\n",
       "\n",
       "* __issue_events_url__ - https://api.github.com/repos/nteract/nteract/issues/events{/number}\n",
       "\n",
       "* __assignees_url__ - https://api.github.com/repos/nteract/nteract/assignees{/user}\n",
       "\n",
       "* __hooks_url__ - https://api.github.com/repos/nteract/nteract/hooks\n",
       "\n",
       "* __watchers_count__ - 365\n",
       "\n",
       "* __git_url__ - git://github.com/nteract/nteract.git\n",
       "\n",
       "* __name__ - nteract\n",
       "\n",
       "* __open_issues__ - 64\n",
       "\n",
       "* __size__ - 4943\n",
       "\n",
       "* __git_tags_url__ - https://api.github.com/repos/nteract/nteract/git/tags{/sha}\n",
       "\n",
       "* __git_commits_url__ - https://api.github.com/repos/nteract/nteract/git/commits{/sha}\n",
       "\n",
       "* __languages_url__ - https://api.github.com/repos/nteract/nteract/languages\n",
       "\n",
       "* __releases_url__ - https://api.github.com/repos/nteract/nteract/releases{/id}\n",
       "\n",
       "* __full_name__ - nteract/nteract\n",
       "\n",
       "* __contents_url__ - https://api.github.com/repos/nteract/nteract/contents/{+path}\n",
       "\n",
       "* __has_issues__ - True\n",
       "\n",
       "* __issue_comment_url__ - https://api.github.com/repos/nteract/nteract/issues/comments{/number}\n"
      ],
      "text/plain": [
       "<IPython.core.display.Markdown object>"
      ]
     },
     "execution_count": 40,
     "metadata": {},
     "output_type": "execute_result"
    }
   ],
   "source": [
    "%%display Markdown repo_template\n",
    "{%- for key, value in repo_info.items() %}\n",
    "* __{{key}}__ - {{value}}\n",
    "{% endfor %}"
   ]
  },
  {
   "cell_type": "code",
   "execution_count": 56,
   "metadata": {
    "collapsed": false
   },
   "outputs": [
    {
     "ename": "ImportError",
     "evalue": "cannot import name 'repo_template'",
     "output_type": "error",
     "traceback": [
      "\u001b[0;31m---------------------------------------------------------------------------\u001b[0m",
      "\u001b[0;31mImportError\u001b[0m                               Traceback (most recent call last)",
      "\u001b[0;32m<ipython-input-56-006eaa4f8d2f>\u001b[0m in \u001b[0;36m<module>\u001b[0;34m()\u001b[0m\n\u001b[1;32m      2\u001b[0m \u001b[0;32mfrom\u001b[0m \u001b[0mflask\u001b[0m \u001b[0;32mimport\u001b[0m \u001b[0mFlask\u001b[0m\u001b[0;34m\u001b[0m\u001b[0m\n\u001b[1;32m      3\u001b[0m \u001b[0;32mfrom\u001b[0m \u001b[0mIPython\u001b[0m \u001b[0;32mimport\u001b[0m \u001b[0mget_ipython\u001b[0m\u001b[0;34m\u001b[0m\u001b[0m\n\u001b[0;32m----> 4\u001b[0;31m \u001b[0;32mfrom\u001b[0m \u001b[0mtiny_app\u001b[0m \u001b[0;32mimport\u001b[0m \u001b[0mrepo_template\u001b[0m\u001b[0;34m,\u001b[0m \u001b[0mrepo\u001b[0m\u001b[0;34m\u001b[0m\u001b[0m\n\u001b[0m\u001b[1;32m      5\u001b[0m \u001b[0mapp\u001b[0m \u001b[0;34m=\u001b[0m \u001b[0mFlask\u001b[0m\u001b[0;34m(\u001b[0m\u001b[0m__name__\u001b[0m\u001b[0;34m)\u001b[0m\u001b[0;34m\u001b[0m\u001b[0m\n\u001b[1;32m      6\u001b[0m \u001b[0;34m\u001b[0m\u001b[0m\n",
      "\u001b[0;31mImportError\u001b[0m: cannot import name 'repo_template'"
     ]
    }
   ],
   "source": [
    "%%file app.py\n",
    "from flask import Flask\n",
    "from IPython import get_ipython\n",
    "app = Flask(__name__)\n",
    "\n",
    "@app.route(\"/\")\n",
    "@app.route(\"/<path:path>\")\n",
    "def hello(path=\"\"):\n",
    "    if path:\n",
    "        repo.value = path\n",
    "        return (__x(**get_ipython().user_ns)\n",
    "                 | repo_template.render\n",
    "                 > mistune.markdown\n",
    "                )\n",
    "    return \"Hello New World!\" + path\n",
    "\n",
    "if __name__ == \"__main__\":\n",
    "    app.run(port=5000)"
   ]
  },
  {
   "cell_type": "code",
   "execution_count": 26,
   "metadata": {
    "collapsed": false
   },
   "outputs": [],
   "source": [
    "# e = envoy.connect('python app.py')\n",
    "\n",
    "# requests.get('http://localhost:5000/testing').text\n",
    "\n",
    "# e.kill()"
   ]
  },
  {
   "cell_type": "code",
   "execution_count": null,
   "metadata": {
    "collapsed": true
   },
   "outputs": [],
   "source": [
    "# kill -15 $( lsof -i:5000 -t )"
   ]
  }
 ],
 "metadata": {
  "anaconda-cloud": {},
  "kernelspec": {
   "display_name": "Python [Root]",
   "language": "python",
   "name": "Python [Root]"
  },
  "language_info": {
   "codemirror_mode": {
    "name": "ipython",
    "version": 3
   },
   "file_extension": ".py",
   "mimetype": "text/x-python",
   "name": "python",
   "nbconvert_exporter": "python",
   "pygments_lexer": "ipython3",
   "version": "3.5.2"
  },
  "widgets": {
   "state": {
    "2d812b7ec4704575bcecd091b0cc01e8": {
     "views": [
      {
       "cell_index": 1
      }
     ]
    }
   },
   "version": "1.2.0"
  }
 },
 "nbformat": 4,
 "nbformat_minor": 0
}
