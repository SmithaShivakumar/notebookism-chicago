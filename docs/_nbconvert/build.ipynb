{
 "cells": [
  {
   "cell_type": "markdown",
   "metadata": {},
   "source": [
    "> Create a base template for the notebook."
   ]
  },
  {
   "cell_type": "code",
   "execution_count": 4,
   "metadata": {
    "collapsed": true
   },
   "outputs": [],
   "source": [
    "from IPython import get_ipython"
   ]
  },
  {
   "cell_type": "code",
   "execution_count": 8,
   "metadata": {
    "collapsed": false
   },
   "outputs": [
    {
     "name": "stdout",
     "output_type": "stream",
     "text": [
      "Overwriting base.html\n"
     ]
    }
   ],
   "source": [
    "%%file base.html\n",
    "{% extends \"full.tpl\" %}\n",
    "{% block header %}{{super()|replace('<title>build_nbconvert_templates</title>', '<title></title>')}}{% endblock %}\n",
    "{% block body %}{% raw %}{{content}}{% endraw %}{% endblock %}"
   ]
  },
  {
   "cell_type": "code",
   "execution_count": 9,
   "metadata": {
    "collapsed": false
   },
   "outputs": [
    {
     "name": "stdout",
     "output_type": "stream",
     "text": [
      "[NbConvertApp] Converting notebook build_nbconvert_templates.ipynb to html\n",
      "[NbConvertApp] Writing 247945 bytes to ../_layouts/base.html\n"
     ]
    }
   ],
   "source": [
    "!jupyter nbconvert --to html build_nbconvert_templates.ipynb --template=base.html --output=../_layouts/base.html"
   ]
  },
  {
   "cell_type": "code",
   "execution_count": 7,
   "metadata": {
    "collapsed": false
   },
   "outputs": [
    {
     "name": "stdout",
     "output_type": "stream",
     "text": [
      "Overwriting body.html\n"
     ]
    }
   ],
   "source": [
    "%%file body.html\n",
    "{% extends \"full.tpl\" %}\n",
    "{% block header %}---\n",
    "layout: base\n",
    "---\n",
    "{% endblock %}"
   ]
  },
  {
   "cell_type": "code",
   "execution_count": null,
   "metadata": {
    "collapsed": true
   },
   "outputs": [],
   "source": []
  }
 ],
 "metadata": {
  "anaconda-cloud": {},
  "kernelspec": {
   "display_name": "Python [Root]",
   "language": "python",
   "name": "Python [Root]"
  },
  "language_info": {
   "codemirror_mode": {
    "name": "ipython",
    "version": 3
   },
   "file_extension": ".py",
   "mimetype": "text/x-python",
   "name": "python",
   "nbconvert_exporter": "python",
   "pygments_lexer": "ipython3",
   "version": "3.5.2"
  }
 },
 "nbformat": 4,
 "nbformat_minor": 0
}
