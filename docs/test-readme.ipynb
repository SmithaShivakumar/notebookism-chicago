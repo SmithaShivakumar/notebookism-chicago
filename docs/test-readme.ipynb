{
 "cells": [
  {
   "cell_type": "markdown",
   "metadata": {
    "nbpresent": {
     "id": "4568b84d-d519-4314-b012-6e44dbd3b0af"
    }
   },
   "source": [
    "# `notebookism`\n",
    "\n",
    "A talk for the PyData Chicago meetup\n",
    "\n",
    "## Installation\n",
    "\n",
    "`pip install notebookism-chicago`\n",
    "\n",
    "[![Binder](http://mybinder.org/badge.svg)](http://mybinder.org:/repo/tonyfast/notebookism-chicago)"
   ]
  },
  {
   "cell_type": "markdown",
   "metadata": {
    "nbpresent": {
     "id": "852c0cd5-b76c-4de4-a362-e3fe2345b8a3"
    }
   },
   "source": [
    "# Links\n",
    "\n",
    "* [Github](https://github.com/tonyfast/notebookism-chicago)\n",
    "* [Binder](http://mybinder.org/repo/tonyfast/notebookism-chicago)\n",
    "* [NbViewer](http://nbviewer.jupyter.org/github/tonyfast/notebookism-chicago/tree/master/)\n",
    "* Anaconda.org\n",
    "    * [notebook](https://anaconda.org/tonyfast/test-readme/notebook)\n",
    "    * [presentation](https://anaconda.org/tonyfast/test-readme/notebook/format/presentation)\n",
    "\n",
    "* [travis-ci](https://travis-ci.org/tonyfast/notebookism-chicago)\n",
    "* [pypi](https://pypi.python.org/pypi/notebookism-chicago)"
   ]
  },
  {
   "cell_type": "markdown",
   "metadata": {
    "nbpresent": {
     "id": "e4237b92-be20-49c2-a3f7-13de3404054d"
    }
   },
   "source": [
    "# Development\n",
    "\n",
    "## Running the Build and Tests\n",
    "\n",
    "```bash\n",
    "pip install -r requirements-dev.txt\n",
    "python setup.py develop\n",
    "watchmedo tricks tricks.yaml\n",
    "```\n",
    "\n",
    "The `watchmedo` script will convert your notebooks to scripts and html files.  `py.test-ipynb` will test all notebooks matching `test-*.ipynb`.\n",
    "\n",
    "## Running the docs \n",
    "\n",
    "```bash\n",
    "jekyll serve docs -wit\n",
    "```\n",
    "\n",
    "Docs are hosted at `http://localhost:4000/notebookism-chicago/`.\n"
   ]
  },
  {
   "cell_type": "markdown",
   "metadata": {
    "nbpresent": {
     "id": "380ab21a-70b1-4145-9d32-414375e1f320"
    }
   },
   "source": [
    "## License\n",
    "`notebookism` is released as free software under the [BSD 3-Clause license](https://github.com/tonyfast/whatever-forever/blob/master/LICENSE)."
   ]
  }
 ],
 "metadata": {
  "anaconda-cloud": {
   "environment": null,
   "summary": "readme for pydata chi talk",
   "url": "https://anaconda.org/tonyfast/test-readme"
  },
  "kernelspec": {
   "display_name": "Python [Root]",
   "language": "python",
   "name": "Python [Root]"
  },
  "language_info": {
   "codemirror_mode": {
    "name": "ipython",
    "version": 3
   },
   "file_extension": ".py",
   "mimetype": "text/x-python",
   "name": "python",
   "nbconvert_exporter": "python",
   "pygments_lexer": "ipython3",
   "version": "3.5.2"
  },
  "nbpresent": {
   "slides": {},
   "themes": {}
  }
 },
 "nbformat": 4,
 "nbformat_minor": 0
}
