{
 "cells": [
  {
   "cell_type": "markdown",
   "metadata": {},
   "source": [
    "# `notebookism`\n",
    "\n",
    "A talk for PyData Chicago\n",
    "\n",
    "## Installation\n",
    "\n",
    "`pip install notebookism-chicago`\n",
    "\n",
    "[![Binder](http://mybinder.org/badge.svg)](http://mybinder.org:/repo/tonyfast/notebookism-chicago)\n"
   ]
  },
  {
   "cell_type": "markdown",
   "metadata": {},
   "source": [
    "# Links\n",
    "\n",
    "* Binder\n",
    "* NbViewer\n",
    "* Anaconda.org presentation view\n",
    "* bl.ocks\n",
    "* Github\n",
    "* travis-ci"
   ]
  },
  {
   "cell_type": "markdown",
   "metadata": {},
   "source": [
    "# Development\n",
    "\n",
    "## Running the Build and Tests\n",
    "\n",
    "```bash\n",
    "pip install -r requirements-dev.txt\n",
    "python setup.py develop\n",
    "watchmedo tricks tricks.yaml\n",
    "```\n",
    "\n",
    "The `watchmedo` script will convert your notebooks to scripts and html files.  `py.test-ipynb` will test all notebooks matching `test-*.ipynb`.\n",
    "\n",
    "## Running the docs \n",
    "\n",
    "```bash\n",
    "jekyll serve docs -wit\n",
    "```\n",
    "\n",
    "Docs are hosted at `http://localhost:4000/notebookism-chicago/`.\n"
   ]
  },
  {
   "cell_type": "markdown",
   "metadata": {},
   "source": [
    "## License\n",
    "`notebookism` is released as free software under the [BSD 3-Clause license](https://github.com/tonyfast/whatever-forever/blob/master/LICENSE)."
   ]
  },
  {
   "cell_type": "code",
   "execution_count": null,
   "metadata": {
    "collapsed": true
   },
   "outputs": [],
   "source": [
    "#hi"
   ]
  }
 ],
 "metadata": {
  "anaconda-cloud": {},
  "kernelspec": {
   "display_name": "Python [Root]",
   "language": "python",
   "name": "Python [Root]"
  },
  "language_info": {
   "codemirror_mode": {
    "name": "ipython",
    "version": 3
   },
   "file_extension": ".py",
   "mimetype": "text/x-python",
   "name": "python",
   "nbconvert_exporter": "python",
   "pygments_lexer": "ipython3",
   "version": "3.5.2"
  }
 },
 "nbformat": 4,
 "nbformat_minor": 0
}
